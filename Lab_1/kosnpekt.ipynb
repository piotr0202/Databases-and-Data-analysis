{
 "cells": [
  {
   "cell_type": "markdown",
   "metadata": {},
   "source": [
    "# Wprowadzenie do Wirtualnych Środowisk w Pythonie\n",
    "\n",
    "## Wstęp\n",
    "\n",
    "Wirtualne środowiska (venv) to oddzielne instancje Pythona, które umożliwiają instalowanie bibliotek i zarządzanie zależnościami specyficznymi dla danego projektu. Dzięki temu nie musimy instalować bibliotek globalnie, co mogłoby prowadzić do konfliktów między różnymi projektami. Kiedy instalujemy pakiety globalnie, mogą wystąpić problemy z wersjami bibliotek – jeden projekt może wymagać wersji X, a inny wersji Y tej samej biblioteki. Wirtualne środowisko rozwiązuje ten problem, izolując zależności na poziomie projektu.\n",
    "\n",
    "W Pythonie mamy wbudowane narzędzie do tworzenia wirtualnych środowisk: komenda `python -m venv`. Dzięki niemu możemy łatwo tworzyć i zarządzać izolowanymi środowiskami.\n",
    "\n",
    "\n",
    "Warto również wspomnieć o **Conda**, która jest alternatywnym menedżerem środowisk i pakietów. \n",
    "\n",
    "Conda to potężny system zarządzania pakietami i środowiskami, który zyskał szerokie uznanie wśród programistów, szczególnie w obszarze analizy danych, nauki o danych i uczenia maszynowego. Jako narzędzie o otwartym kodzie źródłowym, Conda oferuje użytkownikom łatwość w instalowaniu, aktualizowaniu i zarządzaniu pakietami w różnych projektach.\n",
    "Jednym z kluczowych atutów Condy jest możliwość tworzenia izolowanych środowisk. Dzięki temu różne projekty mogą korzystać z różnych wersji tych samych pakietów, co zapobiega konfliktom i ułatwia zarządzanie złożonymi zależnościami. Co więcej, Conda obsługuje nie tylko Python, ale również wiele innych języków programowania, takich jak R, Ruby, Lua, Scala, Java czy C/C++. To czyni ją uniwersalnym narzędziem, które można zastosować w różnych środowiskach programistycznych.\n",
    "Conda umożliwia również łatwe tworzenie i udostępnianie środowisk, co znacznie ułatwia współpracę między programistami. Dzięki obszernym repozytoriom, takim jak Anaconda Repository i conda-forge, użytkownicy mają dostęp do setek pakietów, co znacznie ułatwia pracę z najnowszymi narzędziami i bibliotekami. Automatyczne rozwiązywanie zależności sprawia, że instalacja pakietów staje się znacznie prostsza, a wsparcie dla wielu systemów operacyjnych, w tym Windows, macOS i Linux, sprawia, że Conda jest elastycznym i wygodnym narzędziem."
   ]
  },
  {
   "cell_type": "markdown",
   "metadata": {},
   "source": [
    "\n",
    "### Zadanie 1\n",
    "\n",
    "Stwórz nowy folder o nazwie swoich inicjałów. Następnie wykonaj poniższe kroki:\n",
    "\n",
    "1. Stwórz wirtualne środowisko w folderze `.venv` w swoim katalogu za pomocą komendy:\n",
    "\n",
    "    ```bash\n",
    "    python -m venv .venv\n",
    "    ```\n",
    "\n",
    "2. Aktywuj swoje wirtualne środowisko:\n",
    "   \n",
    "    - Na systemie Windows: \n",
    "      ```bash\n",
    "      .venv\\Scripts\\activate\n",
    "      ```\n",
    "    - Na systemie macOS/Linux:\n",
    "      ```bash\n",
    "      source .venv/bin/activate\n",
    "      ```\n",
    "    - Oraz w VSCode:\n",
    "        `crtl + shift + p` -> select interpreter -> odszukujemy i wybieramy utworzone środowisko\n",
    "\n",
    "3. Zainstaluj bibliotekę `numpy` w swoim środowisku:\n",
    "   \n",
    "    ```bash\n",
    "    pip install numpy\n",
    "    ```\n",
    "\n",
    "4. Spróbuj uruchomić poniższy kod w Jupyter notebooku. To zadanie powinno się nie powieść, ponieważ nie masz jeszcze pakietów pozwalających na obsługę notebooków w środowisku:"
   ]
  },
  {
   "cell_type": "code",
   "execution_count": 2,
   "metadata": {},
   "outputs": [
    {
     "name": "stdout",
     "output_type": "stream",
     "text": [
      "Unexpected exception formatting exception. Falling back to standard exception\n"
     ]
    },
    {
     "name": "stderr",
     "output_type": "stream",
     "text": [
      "Traceback (most recent call last):\n",
      "  File \"/home/student/Pulpit/test/.venv/lib/python3.10/site-packages/IPython/core/interactiveshell.py\", line 3577, in run_code\n",
      "  File \"/tmp/ipykernel_10195/3195599148.py\", line 1, in <module>\n",
      "    import numpy as np\n",
      "ModuleNotFoundError: No module named 'numpy'\n",
      "\n",
      "During handling of the above exception, another exception occurred:\n",
      "\n",
      "Traceback (most recent call last):\n",
      "  File \"/home/student/Pulpit/test/.venv/lib/python3.10/site-packages/pygments/styles/__init__.py\", line 45, in get_style_by_name\n",
      "ModuleNotFoundError: No module named 'pygments.styles.default'\n",
      "\n",
      "During handling of the above exception, another exception occurred:\n",
      "\n",
      "Traceback (most recent call last):\n",
      "  File \"/home/student/Pulpit/test/.venv/lib/python3.10/site-packages/IPython/core/interactiveshell.py\", line 2168, in showtraceback\n",
      "  File \"/home/student/Pulpit/test/.venv/lib/python3.10/site-packages/IPython/core/ultratb.py\", line 1457, in structured_traceback\n",
      "  File \"/home/student/Pulpit/test/.venv/lib/python3.10/site-packages/IPython/core/ultratb.py\", line 1348, in structured_traceback\n",
      "  File \"/home/student/Pulpit/test/.venv/lib/python3.10/site-packages/IPython/core/ultratb.py\", line 1195, in structured_traceback\n",
      "  File \"/home/student/Pulpit/test/.venv/lib/python3.10/site-packages/IPython/core/ultratb.py\", line 1085, in format_exception_as_a_whole\n",
      "  File \"/home/student/Pulpit/test/.venv/lib/python3.10/site-packages/IPython/core/ultratb.py\", line 1136, in get_records\n",
      "  File \"/home/student/Pulpit/test/.venv/lib/python3.10/site-packages/pygments/styles/__init__.py\", line 47, in get_style_by_name\n",
      "pygments.util.ClassNotFound: Could not find style module 'pygments.styles.default', though it should be builtin.\n"
     ]
    }
   ],
   "source": [
    "import numpy as np\n",
    "print('Good job')"
   ]
  },
  {
   "cell_type": "markdown",
   "metadata": {},
   "source": [
    "5. Zainstaluj bibliotekę `jupyter` oraz ponownie spróbuj uruchomić kod."
   ]
  },
  {
   "cell_type": "markdown",
   "metadata": {},
   "source": [
    "\n",
    "#### Zapis zależności: `pip freeze`\n",
    "\n",
    "Kiedy pracujemy nad projektem, pomocne może być zapisanie listy zainstalowanych pakietów do pliku `requirements.txt`. Dzięki temu możemy łatwo odtworzyć środowisko w innym miejscu, instalując te same pakiety.\n",
    "\n",
    "```bash\n",
    "    pip freeze > requirements.txt"
   ]
  },
  {
   "cell_type": "markdown",
   "metadata": {},
   "source": [
    "### Zadanie 2\n",
    "\n",
    "\n",
    "1. Utwórz plik `requirements.txt`\n",
    "\n",
    "2. Odinstaluj wszystkie biblioteki z twojego pierwszego środowiska.\n",
    "\n",
    "    ```bash\n",
    "    pip uninstall -r requirements.txt -y\n",
    "    ```\n",
    "\n",
    "3. Deaktywuj wirtualne środowisko.\n",
    "    ```bash\n",
    "    deactivate\n",
    "    ```\n",
    "\n",
    "4. Usuń wirtualne środowisko `.venv`:\n",
    "    ```bash\n",
    "    rm -rf .venv\n",
    "    ```\n",
    "   \n",
    "\n",
    "5. Stwórz nowe środowisko w oparciu o plik `requirements.txt`, aby to zrobić musisz utworzyć środowisko jak w zadaniu 1 i następnie użyć komendy:\n",
    "    ```bash\n",
    "    pip install -r requirements.txt\n",
    "    ```\n",
    "6. Aktywuj je i spróbuj ponownie uruchomić kod:"
   ]
  },
  {
   "cell_type": "code",
   "execution_count": null,
   "metadata": {},
   "outputs": [
    {
     "ename": "",
     "evalue": "",
     "output_type": "error",
     "traceback": [
      "\u001b[1;31mThe kernel failed to start as the Python Environment '.venv (Python 3.11.9)' is no longer available. Consider selecting another kernel or refreshing the list of Python Environments."
     ]
    }
   ],
   "source": [
    "import numpy as np\n",
    "print('Good job')"
   ]
  },
  {
   "cell_type": "markdown",
   "metadata": {},
   "source": [
    "### Różnice między Conda a venv\n",
    "\n",
    "#### Conda\n",
    "- **Zakres**: Obsługuje wiele języków programowania (Python, R, Ruby, itp.).\n",
    "- **Zarządzanie pakietami**: Posiada własny system zarządzania pakietami, automatycznie rozwiązuje zależności.\n",
    "- **Izolacja środowisk**: Umożliwia tworzenie izolowanych środowisk z różnymi wersjami Pythona i innych języków.\n",
    "- **Łatwość użycia**: Umożliwia łatwe zarządzanie środowiskami i pakietami w jednym narzędziu.\n",
    "- **Zastosowanie**: Preferowane w projektach związanych z nauką o danych i uczeniem maszynowym.\n",
    "\n",
    "#### venv\n",
    "- **Zakres**: Wyłącznie dla Pythona.\n",
    "- **Zarządzanie pakietami**: Korzysta z `pip`, wymaga ręcznego rozwiązywania zależności.\n",
    "- **Izolacja środowisk**: Tworzy środowiska tylko z Pythona.\n",
    "- **Łatwość użycia**: Wymaga więcej kroków do zarządzania pakietami.\n",
    "- **Zastosowanie**: Odpowiednie dla prostszych projektów Pythona.\n",
    "\n",
    "\n"
   ]
  },
  {
   "cell_type": "markdown",
   "metadata": {},
   "source": [
    "### Zadanie 3\n",
    "\n",
    "1. Stwórz nowe środowisko w Condzie:\n",
    "    ```bash\n",
    "    conda create --name <nazwa_środowiska> python=3.10\n",
    "    ```\n",
    "\n",
    "2. Zainstaluj pakiety `numpy` oraz `jupyter` używająć komendy:\n",
    "    ```bash\n",
    "    conda install jupyter numpy\n",
    "    ```\n",
    "    oraz aktywuj środowisko.\n",
    "\n",
    "3. Spróbuj uruchomić poniższy kod:"
   ]
  },
  {
   "cell_type": "code",
   "execution_count": null,
   "metadata": {},
   "outputs": [
    {
     "name": "stdout",
     "output_type": "stream",
     "text": [
      "[0 1 2 3 4 5 6 7 8 9]\n"
     ]
    }
   ],
   "source": [
    "import numpy as np\n",
    "print(np.arange(10))"
   ]
  },
  {
   "cell_type": "markdown",
   "metadata": {},
   "source": [
    "### Zadanie 4\n",
    "Przeprowadź własne badania oraz wykonaj polecenia:\n",
    "1. Stwórz plik `requirements_conda.txt`, zapisując listę zainstalowanych pakietów w środowisku Conda.\n",
    "2. Podaj komendę na utworzenie środowiska z pomocą wygenerowanego pliku.\n",
    "\n"
   ]
  },
  {
   "cell_type": "markdown",
   "metadata": {},
   "source": [
    "### Zadanie 5\n",
    "Uruchom poniższy kod, korzystając z dowolnego środowiska (`venv` lub Conda), konieczna będzie instalacja pewnych bibliotek:"
   ]
  },
  {
   "cell_type": "code",
   "execution_count": null,
   "metadata": {},
   "outputs": [],
   "source": [
    "import shutil\n",
    "import requests\n",
    "import numpy as np\n",
    "from PIL import Image\n",
    "\n",
    "first = int(np.trapezoid([1,2,3,4]) * 3 - 1.5)\n",
    "second = int(0x229)\n",
    "url = f'https://static.vecteezy.com/system/resources/previews/0{first}/{second}/444/large_2x/good-job-stamp-business-concept-design-flat-web-element-illustration-vector.jpg'\n",
    "response = requests.get(url, stream=True)\n",
    "with open('img.png', 'wb') as out_file:\n",
    "    shutil.copyfileobj(response.raw, out_file)\n",
    "del response\n",
    "\n",
    "img = Image.open('img.png')\n",
    "img.show()"
   ]
  },
  {
   "cell_type": "markdown",
   "metadata": {},
   "source": [
    "### Sprzątanie\n",
    "\n",
    "Zalecamy używanie `conda` do zarządzania środowiskami, dlatego sugerujemy usunięcie środowiska `.venv`, które stworzyliśmy w pierwszym i drugim zadaniu. Jednak korzystanie z tego środowiska nie jest zabronine.\n"
   ]
  }
 ],
 "metadata": {
  "kernelspec": {
   "display_name": "Python 3",
   "language": "python",
   "name": "python3"
  },
  "language_info": {
   "codemirror_mode": {
    "name": "ipython",
    "version": 3
   },
   "file_extension": ".py",
   "mimetype": "text/x-python",
   "name": "python",
   "nbconvert_exporter": "python",
   "pygments_lexer": "ipython3",
   "version": "3.10.12"
  }
 },
 "nbformat": 4,
 "nbformat_minor": 2
}
