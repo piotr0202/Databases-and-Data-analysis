{
 "cells": [
  {
   "cell_type": "markdown",
   "metadata": {},
   "source": [
    "*TWORZENIE BAZY DANYCH*"
   ]
  },
  {
   "cell_type": "code",
   "execution_count": 129,
   "metadata": {},
   "outputs": [
    {
     "name": "stdout",
     "output_type": "stream",
     "text": [
      "Połączenie z bazą danych zostało nawiązane pomyślnie!\n"
     ]
    }
   ],
   "source": [
    "import mysql.connector\n",
    "from mysql.connector import Error\n",
    "\n",
    "# Parametry połączenia\n",
    "host = 'mysql.agh.edu.pl'\n",
    "user = 'piotrkwa'\n",
    "password = 'XrJAczZH3duKnbc2'\n",
    "database = 'piotrkwa'  # Podaj nazwę bazy danych, z którą chcesz się połączyć\n",
    "\n",
    "conn = None\n",
    "try:\n",
    "    # Tworzenie połączenia\n",
    "    conn = mysql.connector.connect(\n",
    "        host=host,\n",
    "        user=user,\n",
    "        password=password,\n",
    "        database=database\n",
    "    )\n",
    "\n",
    "    if conn.is_connected():\n",
    "        print(\"Połączenie z bazą danych zostało nawiązane pomyślnie!\")\n",
    "        \n",
    "\n",
    "\n",
    "except Error as e:\n",
    "    print(f\"Błąd połączenia: {e}\")\n",
    "\n",
    "cursor = conn.cursor()\n",
    "create_table_users = \"\"\"\n",
    "        CREATE TABLE IF NOT EXISTS users (\n",
    "            id INT AUTO_INCREMENT PRIMARY KEY,\n",
    "            email VARCHAR(50) NOT NULL\n",
    "        );\n",
    "        \"\"\"\n",
    "\n",
    "create_table_hosts = \"\"\"\n",
    "        CREATE TABLE IF NOT EXISTS hosts (\n",
    "            id INT AUTO_INCREMENT PRIMARY KEY,\n",
    "            user_id INT NOT NULL\n",
    "        );\n",
    "        \"\"\"\n",
    "\n",
    "\n",
    "create_table_countries = \"\"\"\n",
    "        CREATE TABLE IF NOT EXISTS countries (\n",
    "            id INT AUTO_INCREMENT PRIMARY KEY,\n",
    "            country_code VARCHAR(50) NOT NULL,\n",
    "            name VARCHAR(50) NOT NULL\n",
    "        );\n",
    "        \"\"\"    \n",
    "\n",
    "create_table_cities = \"\"\"\n",
    "        CREATE TABLE IF NOT EXISTS cities (\n",
    "            id INT AUTO_INCREMENT PRIMARY KEY,\n",
    "            name VARCHAR(50) NOT NULL,\n",
    "            country_id INT NOT NULL\n",
    "        );\n",
    "        \"\"\"\n",
    "create_table_places = \"\"\"\n",
    "        Create TABLE IF NOT EXISTS places (\n",
    "        id INT AUTO_INCREMENT PRIMARY KEY,\n",
    "        host_id INT NOT NULL,\n",
    "        address VARCHAR(50) NOT NULL,\n",
    "        city_id INT NOT NULL\n",
    "        )\n",
    "\"\"\"\n",
    "\n",
    "create_table_bookings = \"\"\"\n",
    "        CREATE TABLE IF NOT EXISTS bookings (\n",
    "            id INT AUTO_INCREMENT PRIMARY KEY,\n",
    "            user_id INT NOT NULL,\n",
    "            place_id INT NOT NULL,\n",
    "            start_date DATE NOT NULL,\n",
    "            end_date DATE NOT NULL,\n",
    "            price_per_night FLOAT NOT NULL,\n",
    "            num_nights INT NOT NULL\n",
    "        );\n",
    "        \"\"\"\n",
    "\n",
    "create_table_reviews = \"\"\"\n",
    "        CREATE TABLE IF NOT EXISTS reviews (\n",
    "        id INT AUTO_INCREMENT PRIMARY KEY,\n",
    "        booking_id INT NOT NULL,\n",
    "        rating TINYINT NOT NULL,\n",
    "        review_body TEXT NOT NULL\n",
    "        )\n",
    "\"\"\"\n"
   ]
  },
  {
   "cell_type": "code",
   "execution_count": 130,
   "metadata": {},
   "outputs": [],
   "source": [
    "cursor.execute(create_table_users)\n",
    "cursor.execute(create_table_hosts)\n",
    "cursor.execute(create_table_countries)\n",
    "cursor.execute(create_table_cities)\n",
    "cursor.execute(create_table_places)\n",
    "cursor.execute(create_table_bookings)\n",
    "cursor.execute(create_table_reviews)"
   ]
  },
  {
   "cell_type": "code",
   "execution_count": 131,
   "metadata": {},
   "outputs": [],
   "source": [
    "alter_hosts_table = '''\n",
    "        ALTER TABLE hosts\n",
    "            ADD CONSTRAINT fk_user_host_id\n",
    "            FOREIGN KEY (user_id)\n",
    "            REFERENCES users(id);\n",
    "    '''\n",
    "alter_bookings_table = '''\n",
    "        ALTER TABLE bookings\n",
    "            ADD CONSTRAINT fk_user_id\n",
    "            FOREIGN KEY (user_id)\n",
    "            REFERENCES users(id),\n",
    "            ADD CONSTRAINT fk_place_id\n",
    "            FOREIGN KEY (place_id)\n",
    "            REFERENCES places(id);\n",
    "\n",
    "    '''\n",
    "alter_cities_table = '''\n",
    "        ALTER TABLE cities\n",
    "            ADD CONSTRAINT fk_country_id\n",
    "            FOREIGN KEY (country_id)\n",
    "            REFERENCES countries(id);\n",
    "    '''\n",
    "alter_places_table = '''\n",
    "        ALTER TABLE places\n",
    "            ADD CONSTRAINT fk_host_id\n",
    "            FOREIGN KEY (host_id)\n",
    "            REFERENCES hosts(id),\n",
    "            ADD CONSTRAINT fk_city_id\n",
    "            FOREIGN KEY (city_id)\n",
    "            REFERENCES cities(id);\n",
    "    '''\n",
    "alter_reviews_table = '''\n",
    "        ALTER TABLE reviews\n",
    "            ADD CONSTRAINT fk_booking_id\n",
    "            FOREIGN KEY (booking_id)\n",
    "            REFERENCES bookings(id);\n",
    "    '''"
   ]
  },
  {
   "cell_type": "code",
   "execution_count": 132,
   "metadata": {},
   "outputs": [
    {
     "name": "stdout",
     "output_type": "stream",
     "text": [
      "Tabele w bazie danych:\n",
      "bookings\n",
      "cities\n",
      "countries\n",
      "hosts\n",
      "places\n",
      "reviews\n",
      "users\n"
     ]
    }
   ],
   "source": [
    "cursor.execute(\"SHOW TABLES;\")\n",
    "tables = cursor.fetchall()\n",
    "print(\"Tabele w bazie danych:\")\n",
    "for table in tables:\n",
    "    print(table[0])  # Nazwa tabeli"
   ]
  },
  {
   "cell_type": "code",
   "execution_count": 133,
   "metadata": {},
   "outputs": [
    {
     "name": "stdout",
     "output_type": "stream",
     "text": [
      "Struktura tabeli users:\n",
      "('id', 'int(11)', 'NO', 'PRI', None, 'auto_increment')\n",
      "('email', 'varchar(50)', 'NO', '', None, '')\n"
     ]
    }
   ],
   "source": [
    "cursor.execute(\"DESCRIBE users;\")\n",
    "structure = cursor.fetchall()\n",
    "\n",
    "print(\"Struktura tabeli users:\")\n",
    "for row in structure:\n",
    "    print(row)"
   ]
  },
  {
   "cell_type": "code",
   "execution_count": 134,
   "metadata": {},
   "outputs": [
    {
     "name": "stdout",
     "output_type": "stream",
     "text": [
      "Struktura tabeli reviews:\n",
      "('id', 'int(11)', 'NO', 'PRI', None, 'auto_increment')\n",
      "('booking_id', 'int(11)', 'NO', 'MUL', None, '')\n",
      "('rating', 'tinyint(4)', 'NO', '', None, '')\n",
      "('review_body', 'text', 'NO', '', None, '')\n"
     ]
    }
   ],
   "source": [
    "cursor.execute(\"DESCRIBE reviews;\")\n",
    "structure = cursor.fetchall()\n",
    "\n",
    "print(\"Struktura tabeli reviews:\")\n",
    "for row in structure:\n",
    "    print(row)"
   ]
  },
  {
   "cell_type": "code",
   "execution_count": 135,
   "metadata": {},
   "outputs": [
    {
     "name": "stdout",
     "output_type": "stream",
     "text": [
      "Struktura tabeli bookings:\n",
      "('id', 'int(11)', 'NO', 'PRI', None, 'auto_increment')\n",
      "('user_id', 'int(11)', 'NO', 'MUL', None, '')\n",
      "('place_id', 'int(11)', 'NO', 'MUL', None, '')\n",
      "('start_date', 'date', 'NO', '', None, '')\n",
      "('end_date', 'date', 'NO', '', None, '')\n",
      "('price_per_night', 'float', 'NO', '', None, '')\n",
      "('num_nights', 'int(11)', 'NO', '', None, '')\n"
     ]
    }
   ],
   "source": [
    "cursor.execute(\"DESCRIBE bookings;\")\n",
    "structure = cursor.fetchall()\n",
    "\n",
    "print(\"Struktura tabeli bookings:\")\n",
    "for row in structure:\n",
    "    print(row)"
   ]
  },
  {
   "cell_type": "code",
   "execution_count": 136,
   "metadata": {},
   "outputs": [
    {
     "name": "stdout",
     "output_type": "stream",
     "text": [
      "Struktura tabeli cities:\n",
      "('id', 'int(11)', 'NO', 'PRI', None, 'auto_increment')\n",
      "('name', 'varchar(50)', 'NO', '', None, '')\n",
      "('country_id', 'int(11)', 'NO', 'MUL', None, '')\n"
     ]
    }
   ],
   "source": [
    "cursor.execute(\"DESCRIBE cities;\")\n",
    "structure = cursor.fetchall()\n",
    "\n",
    "print(\"Struktura tabeli cities:\")\n",
    "for row in structure:\n",
    "    print(row)"
   ]
  },
  {
   "cell_type": "code",
   "execution_count": 137,
   "metadata": {},
   "outputs": [
    {
     "name": "stdout",
     "output_type": "stream",
     "text": [
      "Struktura tabeli countries:\n",
      "('id', 'int(11)', 'NO', 'PRI', None, 'auto_increment')\n",
      "('country_code', 'varchar(50)', 'NO', '', None, '')\n",
      "('name', 'varchar(50)', 'NO', '', None, '')\n"
     ]
    }
   ],
   "source": [
    "cursor.execute(\"DESCRIBE countries;\")\n",
    "structure = cursor.fetchall()\n",
    "\n",
    "print(\"Struktura tabeli countries:\")\n",
    "for row in structure:\n",
    "    print(row)"
   ]
  },
  {
   "cell_type": "code",
   "execution_count": 138,
   "metadata": {},
   "outputs": [
    {
     "name": "stdout",
     "output_type": "stream",
     "text": [
      "Struktura tabeli hosts:\n",
      "('id', 'int(11)', 'NO', 'PRI', None, 'auto_increment')\n",
      "('user_id', 'int(11)', 'NO', 'MUL', None, '')\n"
     ]
    }
   ],
   "source": [
    "cursor.execute(\"DESCRIBE hosts;\")\n",
    "structure = cursor.fetchall()\n",
    "\n",
    "print(\"Struktura tabeli hosts:\")\n",
    "for row in structure:\n",
    "    print(row)"
   ]
  },
  {
   "cell_type": "code",
   "execution_count": 139,
   "metadata": {},
   "outputs": [
    {
     "name": "stdout",
     "output_type": "stream",
     "text": [
      "Struktura tabeli places:\n",
      "('id', 'int(11)', 'NO', 'PRI', None, 'auto_increment')\n",
      "('host_id', 'int(11)', 'NO', 'MUL', None, '')\n",
      "('address', 'varchar(50)', 'NO', '', None, '')\n",
      "('city_id', 'int(11)', 'NO', 'MUL', None, '')\n"
     ]
    }
   ],
   "source": [
    "cursor.execute(\"DESCRIBE places;\")\n",
    "structure = cursor.fetchall()\n",
    "\n",
    "print(\"Struktura tabeli places:\")\n",
    "for row in structure:\n",
    "    print(row)"
   ]
  },
  {
   "cell_type": "code",
   "execution_count": 140,
   "metadata": {},
   "outputs": [],
   "source": [
    "#cursor.execute(alter_hosts_table)\n",
    "#cursor.execute(alter_bookings_table)\n",
    "#cursor.execute(alter_cities_table)\n",
    "#cursor.execute(alter_places_table)\n",
    "#cursor.execute(alter_reviews_table)"
   ]
  },
  {
   "cell_type": "code",
   "execution_count": 141,
   "metadata": {},
   "outputs": [
    {
     "name": "stdout",
     "output_type": "stream",
     "text": [
      "Table structure for 'hosts':\n",
      "CREATE TABLE `hosts` (\n",
      "  `id` int(11) NOT NULL AUTO_INCREMENT,\n",
      "  `user_id` int(11) NOT NULL,\n",
      "  PRIMARY KEY (`id`),\n",
      "  KEY `fk_user_host_id` (`user_id`),\n",
      "  CONSTRAINT `fk_user_host_id` FOREIGN KEY (`user_id`) REFERENCES `users` (`id`)\n",
      ") ENGINE=InnoDB DEFAULT CHARSET=utf8mb4 COLLATE=utf8mb4_general_ci\n"
     ]
    }
   ],
   "source": [
    "cursor.execute(\"SHOW CREATE TABLE hosts;\") \n",
    "result = cursor.fetchone()\n",
    "\n",
    "# Print the result\n",
    "print(\"Table structure for 'hosts':\")\n",
    "print(result[1]) "
   ]
  },
  {
   "cell_type": "code",
   "execution_count": 142,
   "metadata": {},
   "outputs": [
    {
     "name": "stdout",
     "output_type": "stream",
     "text": [
      "Table structure for 'bookings':\n",
      "CREATE TABLE `bookings` (\n",
      "  `id` int(11) NOT NULL AUTO_INCREMENT,\n",
      "  `user_id` int(11) NOT NULL,\n",
      "  `place_id` int(11) NOT NULL,\n",
      "  `start_date` date NOT NULL,\n",
      "  `end_date` date NOT NULL,\n",
      "  `price_per_night` float NOT NULL,\n",
      "  `num_nights` int(11) NOT NULL,\n",
      "  PRIMARY KEY (`id`),\n",
      "  KEY `fk_user_id` (`user_id`),\n",
      "  KEY `fk_place_id` (`place_id`),\n",
      "  CONSTRAINT `fk_place_id` FOREIGN KEY (`place_id`) REFERENCES `places` (`id`),\n",
      "  CONSTRAINT `fk_user_id` FOREIGN KEY (`user_id`) REFERENCES `users` (`id`)\n",
      ") ENGINE=InnoDB DEFAULT CHARSET=utf8mb4 COLLATE=utf8mb4_general_ci\n"
     ]
    }
   ],
   "source": [
    "cursor.execute(\"SHOW CREATE TABLE bookings;\") \n",
    "result = cursor.fetchone()\n",
    "\n",
    "# Print the result\n",
    "print(\"Table structure for 'bookings':\")\n",
    "print(result[1]) "
   ]
  },
  {
   "cell_type": "code",
   "execution_count": 143,
   "metadata": {},
   "outputs": [
    {
     "name": "stdout",
     "output_type": "stream",
     "text": [
      "Table structure for 'cities':\n",
      "CREATE TABLE `cities` (\n",
      "  `id` int(11) NOT NULL AUTO_INCREMENT,\n",
      "  `name` varchar(50) NOT NULL,\n",
      "  `country_id` int(11) NOT NULL,\n",
      "  PRIMARY KEY (`id`),\n",
      "  KEY `fk_country_id` (`country_id`),\n",
      "  CONSTRAINT `fk_country_id` FOREIGN KEY (`country_id`) REFERENCES `countries` (`id`)\n",
      ") ENGINE=InnoDB DEFAULT CHARSET=utf8mb4 COLLATE=utf8mb4_general_ci\n"
     ]
    }
   ],
   "source": [
    "cursor.execute(\"SHOW CREATE TABLE cities;\") \n",
    "result = cursor.fetchone()\n",
    "\n",
    "# Print the result\n",
    "print(\"Table structure for 'cities':\")\n",
    "print(result[1]) "
   ]
  },
  {
   "cell_type": "code",
   "execution_count": 144,
   "metadata": {},
   "outputs": [
    {
     "name": "stdout",
     "output_type": "stream",
     "text": [
      "Table structure for 'places':\n",
      "CREATE TABLE `places` (\n",
      "  `id` int(11) NOT NULL AUTO_INCREMENT,\n",
      "  `host_id` int(11) NOT NULL,\n",
      "  `address` varchar(50) NOT NULL,\n",
      "  `city_id` int(11) NOT NULL,\n",
      "  PRIMARY KEY (`id`),\n",
      "  KEY `fk_host_id` (`host_id`),\n",
      "  KEY `fk_city_id` (`city_id`),\n",
      "  CONSTRAINT `fk_city_id` FOREIGN KEY (`city_id`) REFERENCES `cities` (`id`),\n",
      "  CONSTRAINT `fk_host_id` FOREIGN KEY (`host_id`) REFERENCES `hosts` (`id`)\n",
      ") ENGINE=InnoDB DEFAULT CHARSET=utf8mb4 COLLATE=utf8mb4_general_ci\n"
     ]
    }
   ],
   "source": [
    "cursor.execute(\"SHOW CREATE TABLE places;\") \n",
    "result = cursor.fetchone()\n",
    "\n",
    "# Print the result\n",
    "print(\"Table structure for 'places':\")\n",
    "print(result[1]) "
   ]
  },
  {
   "cell_type": "code",
   "execution_count": 145,
   "metadata": {},
   "outputs": [
    {
     "name": "stdout",
     "output_type": "stream",
     "text": [
      "Table structure for 'reviews':\n",
      "CREATE TABLE `reviews` (\n",
      "  `id` int(11) NOT NULL AUTO_INCREMENT,\n",
      "  `booking_id` int(11) NOT NULL,\n",
      "  `rating` tinyint(4) NOT NULL,\n",
      "  `review_body` text NOT NULL,\n",
      "  PRIMARY KEY (`id`),\n",
      "  KEY `fk_booking_id` (`booking_id`),\n",
      "  CONSTRAINT `fk_booking_id` FOREIGN KEY (`booking_id`) REFERENCES `bookings` (`id`)\n",
      ") ENGINE=InnoDB DEFAULT CHARSET=utf8mb4 COLLATE=utf8mb4_general_ci\n"
     ]
    }
   ],
   "source": [
    "cursor.execute(\"SHOW CREATE TABLE reviews;\") \n",
    "result = cursor.fetchone()\n",
    "\n",
    "# Print the result\n",
    "print(\"Table structure for 'reviews':\")\n",
    "print(result[1]) "
   ]
  }
 ],
 "metadata": {
  "kernelspec": {
   "display_name": "lab_1_srodowisko",
   "language": "python",
   "name": "python3"
  },
  "language_info": {
   "codemirror_mode": {
    "name": "ipython",
    "version": 3
   },
   "file_extension": ".py",
   "mimetype": "text/x-python",
   "name": "python",
   "nbconvert_exporter": "python",
   "pygments_lexer": "ipython3",
   "version": "3.12.7"
  }
 },
 "nbformat": 4,
 "nbformat_minor": 2
}
