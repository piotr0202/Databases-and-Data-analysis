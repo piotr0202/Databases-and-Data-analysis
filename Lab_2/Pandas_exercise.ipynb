{
 "cells": [
  {
   "cell_type": "markdown",
   "id": "b980f45c",
   "metadata": {},
   "source": [
    "# Ćwiczenia z biblioteki Pandas\n",
    "Wykonasz poniższe zadania, aby nauczyć się podstawowej obsługi biblioteki pandas w Pythonie. Skorzystamy z plików CSV dotyczących psów, które dostarczono, aby zapoznać się z operacjami takimi jak wczytywanie, czyszczenie i analiza danych."
   ]
  },
  {
   "cell_type": "markdown",
   "id": "0ac0bdaa",
   "metadata": {},
   "source": [
    "## Zadania"
   ]
  },
  {
   "cell_type": "markdown",
   "id": "154dcccd",
   "metadata": {},
   "source": [
    "### 1. Wczytaj pliki CSV\n",
    "Wczytaj plik CSV `dogs.csv` do DataFrame w pandas.\n",
    "\n",
    "- Użyj funkcji `pd.read_csv()`, aby załadować dane do zmiennych.\n",
    "- Sprawdź kilka pierwszych wierszy danych, aby zobaczyć ich strukturę za pomocą `head()`.\n"
   ]
  },
  {
   "cell_type": "code",
   "execution_count": 1,
   "id": "92ad3c60",
   "metadata": {},
   "outputs": [
    {
     "name": "stdout",
     "output_type": "stream",
     "text": [
      "  Name ;Breed ;Color ;Height (cm) ;Weight (kg) ;Date of Birth ;Tail Length (cm) ;Number of Paws;\n",
      "0                                            ;;;;;;;                                            \n",
      "1  Bella ;Labrador ;Brown ;56;25;01.07.2013 ;30 ;4;0                                            \n",
      "2                                            ;;;;;;;                                            \n",
      "3  Charlie ;Poodle ;Black ;43;23;16.09.2016 ;25 ;4;0                                            \n",
      "4                                            ;;;;;;;                                            \n"
     ]
    }
   ],
   "source": [
    "import pandas as pd\n",
    "df1 = pd.read_csv('dogs.csv')\n",
    "import datetime\n",
    "print(df1.head())"
   ]
  },
  {
   "cell_type": "markdown",
   "id": "7c75f4bd",
   "metadata": {},
   "source": [
    "### 2. Naprawienie formatu danych\n",
    "Plik `dogs.csv` jest rozdzielony za pomocą średników (`;`). Spróbuj wczytać go poprawnie.\n",
    "\n",
    "**Zwróc uwagę aby nazwy kolumn były odpowiednie oraz nie zawierały żadnych dodatkowych znaków**"
   ]
  },
  {
   "cell_type": "code",
   "execution_count": 2,
   "id": "ef76d8cb",
   "metadata": {},
   "outputs": [
    {
     "name": "stdout",
     "output_type": "stream",
     "text": [
      "      Name      Breed   Color   Height (cm)   Weight (kg)  Date of Birth   \\\n",
      "0       NaN        NaN     NaN           NaN           NaN            NaN   \n",
      "1    Bella   Labrador   Brown           56.0          25.0    01.07.2013    \n",
      "2       NaN        NaN     NaN           NaN           NaN            NaN   \n",
      "3  Charlie     Poodle   Black           43.0          23.0    16.09.2016    \n",
      "4       NaN        NaN     NaN           NaN           NaN            NaN   \n",
      "\n",
      "   Tail Length (cm)   Number of Paws  Unnamed: 8  \n",
      "0                NaN             NaN         NaN  \n",
      "1               30.0             4.0         0.0  \n",
      "2                NaN             NaN         NaN  \n",
      "3               25.0             4.0         0.0  \n",
      "4                NaN             NaN         NaN  \n"
     ]
    }
   ],
   "source": [
    "df2 = pd.read_csv('dogs.csv', sep = ';')\n",
    "print(df2.head())"
   ]
  },
  {
   "cell_type": "markdown",
   "id": "02fdbce4",
   "metadata": {},
   "source": [
    "### 3. Sprawdź podstawowe informacje o danych\n",
    "Dla obu DataFrame'ów:\n",
    "\n",
    "- Użyj funkcji `info()`, aby zobaczyć informacje o typach danych w kolumnach oraz liczbie niepustych wartości.\n",
    "- Skorzystaj z `describe()`, aby wygenerować podstawowe statystyki opisowe dla danych numerycznych.\n",
    "\n",
    "**Zwróć uwagę na długość datafraeme oraz na liczbę wartośći null**"
   ]
  },
  {
   "cell_type": "code",
   "execution_count": 3,
   "id": "665c6111",
   "metadata": {},
   "outputs": [
    {
     "name": "stdout",
     "output_type": "stream",
     "text": [
      "<class 'pandas.core.frame.DataFrame'>\n",
      "RangeIndex: 99 entries, 0 to 98\n",
      "Data columns (total 1 columns):\n",
      " #   Column                                                                                          Non-Null Count  Dtype \n",
      "---  ------                                                                                          --------------  ----- \n",
      " 0   Name ;Breed ;Color ;Height (cm) ;Weight (kg) ;Date of Birth ;Tail Length (cm) ;Number of Paws;  99 non-null     object\n",
      "dtypes: object(1)\n",
      "memory usage: 920.0+ bytes\n"
     ]
    },
    {
     "data": {
      "text/html": [
       "<div>\n",
       "<style scoped>\n",
       "    .dataframe tbody tr th:only-of-type {\n",
       "        vertical-align: middle;\n",
       "    }\n",
       "\n",
       "    .dataframe tbody tr th {\n",
       "        vertical-align: top;\n",
       "    }\n",
       "\n",
       "    .dataframe thead th {\n",
       "        text-align: right;\n",
       "    }\n",
       "</style>\n",
       "<table border=\"1\" class=\"dataframe\">\n",
       "  <thead>\n",
       "    <tr style=\"text-align: right;\">\n",
       "      <th></th>\n",
       "      <th>Name ;Breed ;Color ;Height (cm) ;Weight (kg) ;Date of Birth ;Tail Length (cm) ;Number of Paws;</th>\n",
       "    </tr>\n",
       "  </thead>\n",
       "  <tbody>\n",
       "    <tr>\n",
       "      <th>count</th>\n",
       "      <td>99</td>\n",
       "    </tr>\n",
       "    <tr>\n",
       "      <th>unique</th>\n",
       "      <td>50</td>\n",
       "    </tr>\n",
       "    <tr>\n",
       "      <th>top</th>\n",
       "      <td>;;;;;;;</td>\n",
       "    </tr>\n",
       "    <tr>\n",
       "      <th>freq</th>\n",
       "      <td>50</td>\n",
       "    </tr>\n",
       "  </tbody>\n",
       "</table>\n",
       "</div>"
      ],
      "text/plain": [
       "       Name ;Breed ;Color ;Height (cm) ;Weight (kg) ;Date of Birth ;Tail Length (cm) ;Number of Paws;\n",
       "count                                                  99                                            \n",
       "unique                                                 50                                            \n",
       "top                                               ;;;;;;;                                            \n",
       "freq                                                   50                                            "
      ]
     },
     "execution_count": 3,
     "metadata": {},
     "output_type": "execute_result"
    }
   ],
   "source": [
    "df1.info()\n",
    "df1.describe()"
   ]
  },
  {
   "cell_type": "code",
   "execution_count": 4,
   "id": "45531278",
   "metadata": {},
   "outputs": [
    {
     "name": "stdout",
     "output_type": "stream",
     "text": [
      "<class 'pandas.core.frame.DataFrame'>\n",
      "RangeIndex: 99 entries, 0 to 98\n",
      "Data columns (total 9 columns):\n",
      " #   Column             Non-Null Count  Dtype  \n",
      "---  ------             --------------  -----  \n",
      " 0   Name               49 non-null     object \n",
      " 1   Breed              49 non-null     object \n",
      " 2   Color              49 non-null     object \n",
      " 3   Height (cm)        49 non-null     float64\n",
      " 4   Weight (kg)        49 non-null     float64\n",
      " 5   Date of Birth      49 non-null     object \n",
      " 6   Tail Length (cm)   49 non-null     float64\n",
      " 7   Number of Paws     49 non-null     float64\n",
      " 8   Unnamed: 8         49 non-null     float64\n",
      "dtypes: float64(5), object(4)\n",
      "memory usage: 7.1+ KB\n"
     ]
    },
    {
     "data": {
      "text/html": [
       "<div>\n",
       "<style scoped>\n",
       "    .dataframe tbody tr th:only-of-type {\n",
       "        vertical-align: middle;\n",
       "    }\n",
       "\n",
       "    .dataframe tbody tr th {\n",
       "        vertical-align: top;\n",
       "    }\n",
       "\n",
       "    .dataframe thead th {\n",
       "        text-align: right;\n",
       "    }\n",
       "</style>\n",
       "<table border=\"1\" class=\"dataframe\">\n",
       "  <thead>\n",
       "    <tr style=\"text-align: right;\">\n",
       "      <th></th>\n",
       "      <th>Height (cm)</th>\n",
       "      <th>Weight (kg)</th>\n",
       "      <th>Tail Length (cm)</th>\n",
       "      <th>Number of Paws</th>\n",
       "      <th>Unnamed: 8</th>\n",
       "    </tr>\n",
       "  </thead>\n",
       "  <tbody>\n",
       "    <tr>\n",
       "      <th>count</th>\n",
       "      <td>49.000000</td>\n",
       "      <td>49.000000</td>\n",
       "      <td>49.000000</td>\n",
       "      <td>49.0</td>\n",
       "      <td>49.0</td>\n",
       "    </tr>\n",
       "    <tr>\n",
       "      <th>mean</th>\n",
       "      <td>50.142857</td>\n",
       "      <td>27.775510</td>\n",
       "      <td>26.938776</td>\n",
       "      <td>4.0</td>\n",
       "      <td>0.0</td>\n",
       "    </tr>\n",
       "    <tr>\n",
       "      <th>std</th>\n",
       "      <td>16.907838</td>\n",
       "      <td>21.067615</td>\n",
       "      <td>8.921902</td>\n",
       "      <td>0.0</td>\n",
       "      <td>0.0</td>\n",
       "    </tr>\n",
       "    <tr>\n",
       "      <th>min</th>\n",
       "      <td>17.000000</td>\n",
       "      <td>2.000000</td>\n",
       "      <td>10.000000</td>\n",
       "      <td>4.0</td>\n",
       "      <td>0.0</td>\n",
       "    </tr>\n",
       "    <tr>\n",
       "      <th>25%</th>\n",
       "      <td>44.000000</td>\n",
       "      <td>19.000000</td>\n",
       "      <td>22.000000</td>\n",
       "      <td>4.0</td>\n",
       "      <td>0.0</td>\n",
       "    </tr>\n",
       "    <tr>\n",
       "      <th>50%</th>\n",
       "      <td>50.000000</td>\n",
       "      <td>23.000000</td>\n",
       "      <td>25.000000</td>\n",
       "      <td>4.0</td>\n",
       "      <td>0.0</td>\n",
       "    </tr>\n",
       "    <tr>\n",
       "      <th>75%</th>\n",
       "      <td>58.000000</td>\n",
       "      <td>28.000000</td>\n",
       "      <td>34.000000</td>\n",
       "      <td>4.0</td>\n",
       "      <td>0.0</td>\n",
       "    </tr>\n",
       "    <tr>\n",
       "      <th>max</th>\n",
       "      <td>80.000000</td>\n",
       "      <td>78.000000</td>\n",
       "      <td>42.000000</td>\n",
       "      <td>4.0</td>\n",
       "      <td>0.0</td>\n",
       "    </tr>\n",
       "  </tbody>\n",
       "</table>\n",
       "</div>"
      ],
      "text/plain": [
       "       Height (cm)   Weight (kg)   Tail Length (cm)   Number of Paws  \\\n",
       "count     49.000000     49.000000          49.000000            49.0   \n",
       "mean      50.142857     27.775510          26.938776             4.0   \n",
       "std       16.907838     21.067615           8.921902             0.0   \n",
       "min       17.000000      2.000000          10.000000             4.0   \n",
       "25%       44.000000     19.000000          22.000000             4.0   \n",
       "50%       50.000000     23.000000          25.000000             4.0   \n",
       "75%       58.000000     28.000000          34.000000             4.0   \n",
       "max       80.000000     78.000000          42.000000             4.0   \n",
       "\n",
       "       Unnamed: 8  \n",
       "count        49.0  \n",
       "mean          0.0  \n",
       "std           0.0  \n",
       "min           0.0  \n",
       "25%           0.0  \n",
       "50%           0.0  \n",
       "75%           0.0  \n",
       "max           0.0  "
      ]
     },
     "execution_count": 4,
     "metadata": {},
     "output_type": "execute_result"
    }
   ],
   "source": [
    "df2.info()\n",
    "df2.describe()"
   ]
  },
  {
   "cell_type": "markdown",
   "id": "b93cf91c",
   "metadata": {},
   "source": [
    "### 4. Czyszczenie danych\n",
    "W pliku `dogs.csv` znajdują się puste wiersze, które należy usunąć, następne ćwiczenia wykonuj na `DataFrame` z którego usunięte zostały puste wiersze.\n",
    "\n",
    "- Użyj funkcji `dropna()`, aby usunąć wszystkie wiersze zawierające brakujące dane.\n",
    "- Sprawdź rozmiar DataFrame'a przed i po czyszczeniu, aby upewnić się, że operacja się powiodła."
   ]
  },
  {
   "cell_type": "code",
   "execution_count": 5,
   "id": "5191fa4e",
   "metadata": {},
   "outputs": [
    {
     "data": {
      "text/html": [
       "<div>\n",
       "<style scoped>\n",
       "    .dataframe tbody tr th:only-of-type {\n",
       "        vertical-align: middle;\n",
       "    }\n",
       "\n",
       "    .dataframe tbody tr th {\n",
       "        vertical-align: top;\n",
       "    }\n",
       "\n",
       "    .dataframe thead th {\n",
       "        text-align: right;\n",
       "    }\n",
       "</style>\n",
       "<table border=\"1\" class=\"dataframe\">\n",
       "  <thead>\n",
       "    <tr style=\"text-align: right;\">\n",
       "      <th></th>\n",
       "      <th>Name</th>\n",
       "      <th>Breed</th>\n",
       "      <th>Color</th>\n",
       "      <th>Height (cm)</th>\n",
       "      <th>Weight (kg)</th>\n",
       "      <th>Date of Birth</th>\n",
       "      <th>Tail Length (cm)</th>\n",
       "      <th>Number of Paws</th>\n",
       "      <th>Unnamed: 8</th>\n",
       "    </tr>\n",
       "  </thead>\n",
       "  <tbody>\n",
       "    <tr>\n",
       "      <th>1</th>\n",
       "      <td>Bella</td>\n",
       "      <td>Labrador</td>\n",
       "      <td>Brown</td>\n",
       "      <td>56.0</td>\n",
       "      <td>25.0</td>\n",
       "      <td>01.07.2013</td>\n",
       "      <td>30.0</td>\n",
       "      <td>4.0</td>\n",
       "      <td>0.0</td>\n",
       "    </tr>\n",
       "    <tr>\n",
       "      <th>3</th>\n",
       "      <td>Charlie</td>\n",
       "      <td>Poodle</td>\n",
       "      <td>Black</td>\n",
       "      <td>43.0</td>\n",
       "      <td>23.0</td>\n",
       "      <td>16.09.2016</td>\n",
       "      <td>25.0</td>\n",
       "      <td>4.0</td>\n",
       "      <td>0.0</td>\n",
       "    </tr>\n",
       "    <tr>\n",
       "      <th>5</th>\n",
       "      <td>Lucy</td>\n",
       "      <td>Chow Chow</td>\n",
       "      <td>Brown</td>\n",
       "      <td>46.0</td>\n",
       "      <td>22.0</td>\n",
       "      <td>25.08.2014</td>\n",
       "      <td>22.0</td>\n",
       "      <td>4.0</td>\n",
       "      <td>0.0</td>\n",
       "    </tr>\n",
       "    <tr>\n",
       "      <th>7</th>\n",
       "      <td>Cooper</td>\n",
       "      <td>Schnauzer</td>\n",
       "      <td>Gray</td>\n",
       "      <td>49.0</td>\n",
       "      <td>17.0</td>\n",
       "      <td>11.12.2011</td>\n",
       "      <td>24.0</td>\n",
       "      <td>4.0</td>\n",
       "      <td>0.0</td>\n",
       "    </tr>\n",
       "    <tr>\n",
       "      <th>9</th>\n",
       "      <td>Max</td>\n",
       "      <td>Labrador</td>\n",
       "      <td>Black</td>\n",
       "      <td>59.0</td>\n",
       "      <td>29.0</td>\n",
       "      <td>20.01.2017</td>\n",
       "      <td>35.0</td>\n",
       "      <td>4.0</td>\n",
       "      <td>0.0</td>\n",
       "    </tr>\n",
       "  </tbody>\n",
       "</table>\n",
       "</div>"
      ],
      "text/plain": [
       "      Name       Breed   Color   Height (cm)   Weight (kg)  Date of Birth   \\\n",
       "1    Bella    Labrador   Brown           56.0          25.0    01.07.2013    \n",
       "3  Charlie      Poodle   Black           43.0          23.0    16.09.2016    \n",
       "5     Lucy   Chow Chow   Brown           46.0          22.0    25.08.2014    \n",
       "7   Cooper   Schnauzer    Gray           49.0          17.0    11.12.2011    \n",
       "9      Max    Labrador   Black           59.0          29.0    20.01.2017    \n",
       "\n",
       "   Tail Length (cm)   Number of Paws  Unnamed: 8  \n",
       "1               30.0             4.0         0.0  \n",
       "3               25.0             4.0         0.0  \n",
       "5               22.0             4.0         0.0  \n",
       "7               24.0             4.0         0.0  \n",
       "9               35.0             4.0         0.0  "
      ]
     },
     "execution_count": 5,
     "metadata": {},
     "output_type": "execute_result"
    }
   ],
   "source": [
    "df_cleaned = df2.dropna()\n",
    "df_cleaned.head()"
   ]
  },
  {
   "cell_type": "markdown",
   "id": "f262dc0d",
   "metadata": {},
   "source": [
    "### 5. Usuwanie zbędnych kolumn\n",
    "Teraz usuniemy niepotrzebne kolumny z pliku `dogs.csv` i zapiszemy go do zmiennej `dogs_clean`\n",
    "\n",
    "- Usuń wszystkie zbędne kolumny, które są puste lub niepotrzebne (zobacz z których danych będziesz korzystał w następnych ćwiczeniach).\n",
    "- Użyj funkcji `drop()` z parametrem `axis=1`, oraz `label=[lista nazw kolumn]` aby usunąć kolumny."
   ]
  },
  {
   "cell_type": "code",
   "execution_count": 6,
   "id": "ddc873e7",
   "metadata": {},
   "outputs": [
    {
     "name": "stdout",
     "output_type": "stream",
     "text": [
      "      Name       Breed   Color   Height (cm)   Weight (kg)  Date of Birth   \\\n",
      "1    Bella    Labrador   Brown           56.0          25.0    01.07.2013    \n",
      "3  Charlie      Poodle   Black           43.0          23.0    16.09.2016    \n",
      "5     Lucy   Chow Chow   Brown           46.0          22.0    25.08.2014    \n",
      "7   Cooper   Schnauzer    Gray           49.0          17.0    11.12.2011    \n",
      "9      Max    Labrador   Black           59.0          29.0    20.01.2017    \n",
      "\n",
      "   Tail Length (cm)   Number of Paws  \n",
      "1               30.0             4.0  \n",
      "3               25.0             4.0  \n",
      "5               22.0             4.0  \n",
      "7               24.0             4.0  \n",
      "9               35.0             4.0  \n"
     ]
    }
   ],
   "source": [
    "dogs_clean = df_cleaned.drop(axis = 1, labels ='Unnamed: 8')\n",
    "print(dogs_clean.head())"
   ]
  },
  {
   "cell_type": "markdown",
   "id": "1a79de5e",
   "metadata": {},
   "source": [
    "### 6. Dodanie nowej kolumny\n",
    "Dodaj nową kolumnę `Age (Years)` do DataFrame'a `dogs_clean`, która będzie wyliczać wiek każdego psa w latach na podstawie kolumny `Date of Birth`.\n",
    "\n",
    "- Najpierw przekształć kolumnę `Date of Birth` na format daty za pomocą `pd.to_datetime()`.\n",
    "- Następnie oblicz wiek psa, odejmując datę urodzenia od bieżącej daty."
   ]
  },
  {
   "cell_type": "code",
   "execution_count": 7,
   "id": "d0ba2b89",
   "metadata": {},
   "outputs": [
    {
     "name": "stdout",
     "output_type": "stream",
     "text": [
      "      Name       Breed   Color   Height (cm)   Weight (kg)  Date of Birth   \\\n",
      "1    Bella    Labrador   Brown           56.0          25.0     2013-07-01   \n",
      "3  Charlie      Poodle   Black           43.0          23.0     2016-09-16   \n",
      "5     Lucy   Chow Chow   Brown           46.0          22.0     2014-08-25   \n",
      "7   Cooper   Schnauzer    Gray           49.0          17.0     2011-12-11   \n",
      "9      Max    Labrador   Black           59.0          29.0     2017-01-20   \n",
      "\n",
      "   Tail Length (cm)   Number of Paws  Age  \n",
      "1               30.0             4.0   11  \n",
      "3               25.0             4.0    8  \n",
      "5               22.0             4.0   10  \n",
      "7               24.0             4.0   12  \n",
      "9               35.0             4.0    7  \n"
     ]
    }
   ],
   "source": [
    "dogs_clean['Date of Birth '] = pd.to_datetime(dogs_clean['Date of Birth '],dayfirst = True)\n",
    "current_date = pd.Timestamp(datetime.datetime.now())\n",
    "dogs_clean['Age'] = ((current_date - dogs_clean['Date of Birth ']).dt.days/365.25).astype(int)\n",
    "print(dogs_clean.head())"
   ]
  },
  {
   "cell_type": "markdown",
   "id": "d3ae76ae",
   "metadata": {},
   "source": [
    "### 7. Filtracja danych\n",
    "Wykonaj filtrację danych, aby wyświetlić tylko te psy, które ważą więcej niż 20 kg i mają więcej niż 50 cm wzrostu.\n",
    "\n",
    "- Użyj operatora logicznego w pandas, aby przefiltrować DataFrame według warunków na kolumny `Weight (kg)` i `Height (cm)`."
   ]
  },
  {
   "cell_type": "code",
   "execution_count": 8,
   "id": "09d5ad95",
   "metadata": {},
   "outputs": [
    {
     "data": {
      "text/html": [
       "<div>\n",
       "<style scoped>\n",
       "    .dataframe tbody tr th:only-of-type {\n",
       "        vertical-align: middle;\n",
       "    }\n",
       "\n",
       "    .dataframe tbody tr th {\n",
       "        vertical-align: top;\n",
       "    }\n",
       "\n",
       "    .dataframe thead th {\n",
       "        text-align: right;\n",
       "    }\n",
       "</style>\n",
       "<table border=\"1\" class=\"dataframe\">\n",
       "  <thead>\n",
       "    <tr style=\"text-align: right;\">\n",
       "      <th></th>\n",
       "      <th>Name</th>\n",
       "      <th>Breed</th>\n",
       "      <th>Color</th>\n",
       "      <th>Height (cm)</th>\n",
       "      <th>Weight (kg)</th>\n",
       "      <th>Date of Birth</th>\n",
       "      <th>Tail Length (cm)</th>\n",
       "      <th>Number of Paws</th>\n",
       "      <th>Age</th>\n",
       "    </tr>\n",
       "  </thead>\n",
       "  <tbody>\n",
       "    <tr>\n",
       "      <th>1</th>\n",
       "      <td>Bella</td>\n",
       "      <td>Labrador</td>\n",
       "      <td>Brown</td>\n",
       "      <td>56.0</td>\n",
       "      <td>25.0</td>\n",
       "      <td>2013-07-01</td>\n",
       "      <td>30.0</td>\n",
       "      <td>4.0</td>\n",
       "      <td>11</td>\n",
       "    </tr>\n",
       "    <tr>\n",
       "      <th>9</th>\n",
       "      <td>Max</td>\n",
       "      <td>Labrador</td>\n",
       "      <td>Black</td>\n",
       "      <td>59.0</td>\n",
       "      <td>29.0</td>\n",
       "      <td>2017-01-20</td>\n",
       "      <td>35.0</td>\n",
       "      <td>4.0</td>\n",
       "      <td>7</td>\n",
       "    </tr>\n",
       "    <tr>\n",
       "      <th>13</th>\n",
       "      <td>Bernie</td>\n",
       "      <td>St. Bernard</td>\n",
       "      <td>White</td>\n",
       "      <td>77.0</td>\n",
       "      <td>74.0</td>\n",
       "      <td>2018-02-27</td>\n",
       "      <td>40.0</td>\n",
       "      <td>4.0</td>\n",
       "      <td>6</td>\n",
       "    </tr>\n",
       "    <tr>\n",
       "      <th>15</th>\n",
       "      <td>Daisy</td>\n",
       "      <td>Labrador</td>\n",
       "      <td>Yellow</td>\n",
       "      <td>57.0</td>\n",
       "      <td>27.0</td>\n",
       "      <td>2012-06-30</td>\n",
       "      <td>32.0</td>\n",
       "      <td>4.0</td>\n",
       "      <td>12</td>\n",
       "    </tr>\n",
       "    <tr>\n",
       "      <th>23</th>\n",
       "      <td>Sadie</td>\n",
       "      <td>Labrador</td>\n",
       "      <td>Chocolate</td>\n",
       "      <td>58.0</td>\n",
       "      <td>28.0</td>\n",
       "      <td>2014-10-14</td>\n",
       "      <td>33.0</td>\n",
       "      <td>4.0</td>\n",
       "      <td>10</td>\n",
       "    </tr>\n",
       "  </tbody>\n",
       "</table>\n",
       "</div>"
      ],
      "text/plain": [
       "      Name         Breed       Color   Height (cm)   Weight (kg)   \\\n",
       "1    Bella      Labrador       Brown           56.0          25.0   \n",
       "9      Max      Labrador       Black           59.0          29.0   \n",
       "13  Bernie   St. Bernard       White           77.0          74.0   \n",
       "15   Daisy      Labrador      Yellow           57.0          27.0   \n",
       "23   Sadie      Labrador   Chocolate           58.0          28.0   \n",
       "\n",
       "   Date of Birth   Tail Length (cm)   Number of Paws  Age  \n",
       "1      2013-07-01               30.0             4.0   11  \n",
       "9      2017-01-20               35.0             4.0    7  \n",
       "13     2018-02-27               40.0             4.0    6  \n",
       "15     2012-06-30               32.0             4.0   12  \n",
       "23     2014-10-14               33.0             4.0   10  "
      ]
     },
     "execution_count": 8,
     "metadata": {},
     "output_type": "execute_result"
    }
   ],
   "source": [
    "condition_weight = dogs_clean['Weight (kg) '] > 20\n",
    "condition_height = dogs_clean['Height (cm) '] > 50\n",
    "dogs_filtered = dogs_clean[condition_height & condition_weight]\n",
    "dogs_filtered.head()"
   ]
  },
  {
   "cell_type": "markdown",
   "id": "94aa8016",
   "metadata": {},
   "source": [
    "### 8. Grupowanie danych\n",
    "Zgrupuj dane według rasy psa (`Breed`) i oblicz średnią wagę oraz wzrost psów dla każdej grupy.\n",
    "\n",
    "- Skorzystaj z funkcji `groupby()` i `mean()`."
   ]
  },
  {
   "cell_type": "code",
   "execution_count": 9,
   "id": "c057d447",
   "metadata": {},
   "outputs": [
    {
     "name": "stdout",
     "output_type": "stream",
     "text": [
      "['Name ', 'Breed ', 'Color ', 'Height (cm) ', 'Weight (kg) ', 'Date of Birth ', 'Tail Length (cm) ', 'Number of Paws', 'Age']\n",
      "              Weight (kg)   Height (cm) \n",
      "Breed                                   \n",
      "Chihuahua         2.428571     18.000000\n",
      "Chow Chow        22.714286     47.285714\n",
      "Labrador         27.357143     57.714286\n",
      "Poodle           21.571429     43.142857\n",
      "Schnauzer        18.000000     49.714286\n",
      "St. Bernard      75.000000     77.428571\n",
      "['Name', 'Breed', 'Color', 'Height (cm)', 'Weight (kg)', 'Date of Birth', 'Tail Length (cm)', 'Number of Paws', 'Age']\n"
     ]
    }
   ],
   "source": [
    "print(dogs_clean.columns.tolist())\n",
    "dogs_grouped = dogs_clean.groupby('Breed ')\n",
    "dogs_grouped = dogs_grouped.agg({'Weight (kg) ': 'mean', 'Height (cm) ': 'mean'})\n",
    "print(dogs_grouped)\n",
    "\n",
    "dogs_clean.columns = dogs_clean.columns.str.strip()\n",
    "\n",
    "# Sprawdź kolumny\n",
    "print(dogs_clean.columns.tolist())"
   ]
  },
  {
   "cell_type": "markdown",
   "id": "6b2d133b",
   "metadata": {},
   "source": [
    "### 9. Eksportowanie danych\n",
    "Wyeksportuj oczyszczony i przekształcony DataFrame z powrotem do pliku CSV.\n",
    "\n",
    "- Użyj funkcji `to_csv()`, aby zapisać plik pod nazwą `dogs_cleaned.csv`."
   ]
  },
  {
   "cell_type": "code",
   "execution_count": 10,
   "id": "55ae479a",
   "metadata": {},
   "outputs": [],
   "source": [
    "dogs_clean.to_csv('dogs_cleaned.csv')"
   ]
  },
  {
   "cell_type": "markdown",
   "id": "afc8cae2",
   "metadata": {},
   "source": [
    "### 10. Protokół TIER\n",
    "Na podstawie wyżej wykonanych zadań utwórz projekt zgodnie ze strukturą zaproponowaną przez [TIER](https://www.projecttier.org/tier-protocol/protocol-4-0/). Danymi wejściowmi powinien być plik `dogs.csv`, a efektem końcowym sprawozdanie w którym odpowiemy na pytanie która rasa psów jest najcięższa. Sprawozdanie powinno zawierać cały przebieg od momentu surowych danych poprzez ich przetworzenie aż do końcowego wniosku, należy w nim również umieścić zrzut ekranu z drzewem folderów w strukturze zaproponanej przez TIER. \n",
    "\n",
    "**Pamiętaj że należy utworzyć skrypty pythona a nie noteboooki w poszczególnych folderach**"
   ]
  }
 ],
 "metadata": {
  "kernelspec": {
   "display_name": ".venv",
   "language": "python",
   "name": "python3"
  },
  "language_info": {
   "codemirror_mode": {
    "name": "ipython",
    "version": 3
   },
   "file_extension": ".py",
   "mimetype": "text/x-python",
   "name": "python",
   "nbconvert_exporter": "python",
   "pygments_lexer": "ipython3",
   "version": "3.10.11"
  }
 },
 "nbformat": 4,
 "nbformat_minor": 5
}
